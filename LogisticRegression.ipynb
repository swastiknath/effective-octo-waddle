{
    "nbformat_minor": 1, 
    "cells": [
        {
            "execution_count": 1, 
            "cell_type": "code", 
            "metadata": {}, 
            "outputs": [
                {
                    "output_type": "stream", 
                    "name": "stdout", 
                    "text": "Waiting for a Spark session to start...\nSpark Initialization Done! ApplicationId = app-20190523113954-0000\nKERNEL_ID = a825cd9f-7e7f-4ec5-a72a-b3a126d2955e\n"
                }
            ], 
            "source": "# The code was removed by Watson Studio for sharing."
        }, 
        {
            "execution_count": 2, 
            "cell_type": "code", 
            "metadata": {}, 
            "outputs": [
                {
                    "output_type": "stream", 
                    "name": "stdout", 
                    "text": "+---+---+---+-----------+--------------------+\n|  x|  y|  z|      class|              source|\n+---+---+---+-----------+--------------------+\n| 21| 12| 36|Liedown_bed|Accelerometer-201...|\n| 12| 34| 34|Liedown_bed|Accelerometer-201...|\n| 12| 34| 34|Liedown_bed|Accelerometer-201...|\n| 12| 34| 34|Liedown_bed|Accelerometer-201...|\n| 14| 36| 34|Liedown_bed|Accelerometer-201...|\n| 14| 34| 33|Liedown_bed|Accelerometer-201...|\n| 12| 36| 34|Liedown_bed|Accelerometer-201...|\n| 10| 36| 35|Liedown_bed|Accelerometer-201...|\n| 11| 37| 36|Liedown_bed|Accelerometer-201...|\n| 13| 36| 35|Liedown_bed|Accelerometer-201...|\n| 11| 37| 36|Liedown_bed|Accelerometer-201...|\n| 13| 37| 36|Liedown_bed|Accelerometer-201...|\n| 12| 38| 34|Liedown_bed|Accelerometer-201...|\n| 13| 37| 35|Liedown_bed|Accelerometer-201...|\n| 12| 38| 34|Liedown_bed|Accelerometer-201...|\n| 13| 39| 35|Liedown_bed|Accelerometer-201...|\n| 13| 39| 36|Liedown_bed|Accelerometer-201...|\n| 11| 38| 35|Liedown_bed|Accelerometer-201...|\n| 12| 38| 35|Liedown_bed|Accelerometer-201...|\n| 12| 39| 35|Liedown_bed|Accelerometer-201...|\n+---+---+---+-----------+--------------------+\nonly showing top 20 rows\n\n"
                }
            ], 
            "source": "df.show()"
        }, 
        {
            "execution_count": 3, 
            "cell_type": "code", 
            "metadata": {}, 
            "outputs": [], 
            "source": "splits = df.randomSplit([0.8, 0.2])\ndf_train = splits[0]\ndf_test = splits[1]"
        }, 
        {
            "execution_count": 5, 
            "cell_type": "code", 
            "metadata": {}, 
            "outputs": [], 
            "source": "from pyspark.ml.feature import VectorAssembler\nfrom pyspark.ml.feature import Normalizer\nfrom pyspark.ml.feature import StringIndexer, OneHotEncoder\n\nindexer = StringIndexer(inputCol = 'class', outputCol = 'label')\n\nvectorAssembler = VectorAssembler(inputCols = ['x', 'y', 'z'], outputCol = 'features')\nnormalizer = Normalizer(inputCol = 'features', outputCol = 'features_norm', p = 1.0)"
        }, 
        {
            "execution_count": 7, 
            "cell_type": "code", 
            "metadata": {}, 
            "outputs": [], 
            "source": "from pyspark.ml.classification import LogisticRegression\nlr = LogisticRegression(maxIter = 10, regParam = 0.3, elasticNetParam = 0.8)"
        }, 
        {
            "execution_count": 8, 
            "cell_type": "code", 
            "metadata": {}, 
            "outputs": [], 
            "source": "from pyspark.ml import Pipeline\npipeline = Pipeline(stages = [indexer, vectorAssembler, normalizer, lr])"
        }, 
        {
            "execution_count": 9, 
            "cell_type": "code", 
            "metadata": {}, 
            "outputs": [], 
            "source": "model = pipeline.fit(df_train)"
        }, 
        {
            "execution_count": 10, 
            "cell_type": "code", 
            "metadata": {}, 
            "outputs": [], 
            "source": "prediction = model.transform(df_train)"
        }, 
        {
            "execution_count": 12, 
            "cell_type": "code", 
            "metadata": {}, 
            "outputs": [], 
            "source": "from pyspark.ml.evaluation import MulticlassClassificationEvaluator\neval = MulticlassClassificationEvaluator().setMetricName('accuracy').setLabelCol('label').setPredictionCol('prediction')"
        }, 
        {
            "execution_count": 13, 
            "cell_type": "code", 
            "metadata": {}, 
            "outputs": [
                {
                    "execution_count": 13, 
                    "metadata": {}, 
                    "data": {
                        "text/plain": "0.12920302727442887"
                    }, 
                    "output_type": "execute_result"
                }
            ], 
            "source": "eval.evaluate(prediction)"
        }, 
        {
            "execution_count": 14, 
            "cell_type": "code", 
            "metadata": {}, 
            "outputs": [], 
            "source": "model = pipeline.fit(df_test)"
        }, 
        {
            "execution_count": 15, 
            "cell_type": "code", 
            "metadata": {}, 
            "outputs": [
                {
                    "execution_count": 15, 
                    "metadata": {}, 
                    "data": {
                        "text/plain": "0.1295910906125204"
                    }, 
                    "output_type": "execute_result"
                }
            ], 
            "source": "prediction = model.transform(df_test)\neval.evaluate(prediction)"
        }, 
        {
            "execution_count": null, 
            "cell_type": "code", 
            "metadata": {}, 
            "outputs": [], 
            "source": ""
        }
    ], 
    "metadata": {
        "kernelspec": {
            "display_name": "Python 3.6 with Spark", 
            "name": "python36", 
            "language": "python3"
        }, 
        "language_info": {
            "mimetype": "text/x-python", 
            "nbconvert_exporter": "python", 
            "version": "3.6.8", 
            "name": "python", 
            "file_extension": ".py", 
            "pygments_lexer": "ipython3", 
            "codemirror_mode": {
                "version": 3, 
                "name": "ipython"
            }
        }
    }, 
    "nbformat": 4
}